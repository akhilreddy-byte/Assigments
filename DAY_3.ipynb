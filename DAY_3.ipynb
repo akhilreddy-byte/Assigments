{
  "nbformat": 4,
  "nbformat_minor": 0,
  "metadata": {
    "colab": {
      "name": "DAY 3.ipynb",
      "provenance": [],
      "authorship_tag": "ABX9TyNWHvxfmAgs5po6H4DUjxQ7",
      "include_colab_link": true
    },
    "kernelspec": {
      "name": "python3",
      "display_name": "Python 3"
    }
  },
  "cells": [
    {
      "cell_type": "markdown",
      "metadata": {
        "id": "view-in-github",
        "colab_type": "text"
      },
      "source": [
        "<a href=\"https://colab.research.google.com/github/akhilreddy-byte/Assigments/blob/main/DAY_3.ipynb\" target=\"_parent\"><img src=\"https://colab.research.google.com/assets/colab-badge.svg\" alt=\"Open In Colab\"/></a>"
      ]
    },
    {
      "cell_type": "code",
      "metadata": {
        "colab": {
          "base_uri": "https://localhost:8080/"
        },
        "id": "CwIP_jrW5WIl",
        "outputId": "25c76882-c37d-4801-cf68-acd193f7f69a"
      },
      "source": [
        "#PF-Exer-15\n",
        "\n",
        "def find_sum_of_digits(number):\n",
        "    sum_of_digits=0\n",
        "    #Write your logic here\n",
        "    while number!=0:\n",
        "        sum_of_digits=sum_of_digits+number%10\n",
        "        number=number//10\n",
        "        \n",
        "        \n",
        "    return sum_of_digits\n",
        "\n",
        "#Provide different values for number and test your program\n",
        "sum_of_digits=find_sum_of_digits(123)\n",
        "print(\"Sum of digits:\",sum_of_digits)"
      ],
      "execution_count": null,
      "outputs": [
        {
          "output_type": "stream",
          "text": [
            "Sum of digits: 6\n"
          ],
          "name": "stdout"
        }
      ]
    },
    {
      "cell_type": "code",
      "metadata": {
        "colab": {
          "base_uri": "https://localhost:8080/"
        },
        "id": "TlRBecc7-0Fh",
        "outputId": "7aebae6b-ce12-4d74-8fb4-3649d4209abc"
      },
      "source": [
        "#PF-Exer-18\n",
        "\n",
        "def get_count(num_list):\n",
        "    count=0\n",
        "\n",
        "    # Write your logic here\n",
        "    for i in range(0,len(num_list)-1):\n",
        "        if num_list[i]==num_list[i+1]:\n",
        "            count+=1\n",
        "\n",
        "    return count\n",
        "\n",
        "#provide different values in list and test your program\n",
        "num_list=[1,1,5,100,-20,-20,6,0,0]\n",
        "print(get_count(num_list))"
      ],
      "execution_count": 1,
      "outputs": [
        {
          "output_type": "stream",
          "text": [
            "3\n"
          ],
          "name": "stdout"
        }
      ]
    },
    {
      "cell_type": "code",
      "metadata": {
        "id": "aTW34WFbNSVo"
      },
      "source": [
        "def find_leap_years(given_year):\n",
        "\n",
        "    list_of_leap_years=[]\n",
        "    while len(list_of_leap_years)<15:\n",
        "        if given_year%4==0:\n",
        "            if given_year%100==0:\n",
        "                if given_year%400==0:\n",
        "                    list_of_leap_years.append(given_year)\n",
        "                    given_year+=1\n",
        "                else:\n",
        "                    given_year+=1\n",
        "            else:\n",
        "                list_of_leap_years.append(given_year)\n",
        "                given_year+=1\n",
        "        else:\n",
        "            given_year+=1\n",
        "\n",
        "    return list_of_leap_years\n",
        "\n",
        "list_of_leap_years=find_leap_years(2002)\n",
        "print(list_of_leap_years)"
      ],
      "execution_count": null,
      "outputs": []
    },
    {
      "cell_type": "code",
      "metadata": {
        "colab": {
          "base_uri": "https://localhost:8080/"
        },
        "id": "Y_bvO4XAfdep",
        "outputId": "21ef904c-8b84-4580-adbb-fb91a591441f"
      },
      "source": [
        "#PF-Assgn-23\n",
        "def calculate_bill_amount(gems_list, price_list, reqd_gems,reqd_quantity):\n",
        "    bill_amount=0\n",
        "    for i in range(0,len(reqd_gems)):\n",
        "        if reqd_gems[i] in gems_list:\n",
        "            indx=gems_list.index(reqd_gems[i])\n",
        "            bill_amount=bill_amount+(price_list[indx]*reqd_quantity[i])\n",
        "        else:\n",
        "            bill_amount=-1\n",
        "            break\n",
        "    if bill_amount>30000:\n",
        "        bill_amount=bill_amount-(bill_amount*0.05)\n",
        "    return bill_amount\n",
        "    \n",
        "    \n",
        "    return bill_amount\n",
        "\n",
        "#List of gems available in the store\n",
        "gems_list=[\"Emerald\",\"Ivory\",\"Jasper\",\"Ruby\",\"Garnet\"]\n",
        "\n",
        "#Price of gems available in the store. gems_list and price_list have one-to-one correspondence\n",
        "price_list=[1760,2119,1599,3920,3999]\n",
        "\n",
        "#List of gems required by the customer\n",
        "reqd_gems=[\"Ivoryx\",\"Emerald\",\"Garnet\"]\n",
        "\n",
        "#Quantity of gems required by the customer. reqd_gems and reqd_quantity have one-to-one correspondence\n",
        "reqd_quantity=[3,10,12]\n",
        "\n",
        "bill_amount=calculate_bill_amount(gems_list, price_list, reqd_gems, reqd_quantity)\n",
        "print(bill_amount)"
      ],
      "execution_count": 1,
      "outputs": [
        {
          "output_type": "stream",
          "text": [
            "-1\n"
          ],
          "name": "stdout"
        }
      ]
    },
    {
      "cell_type": "code",
      "metadata": {
        "colab": {
          "base_uri": "https://localhost:8080/"
        },
        "id": "IYsMJs8GffkV",
        "outputId": "45d42048-c7d7-4203-ce02-4fb13cf7adfa"
      },
      "source": [
        "#PF-Assgn-24\n",
        "def form_triangle(num1,num2,num3):\n",
        "    #Do not change the messages provided below\n",
        "    success=\"Triangle can be formed\"\n",
        "    failure=\"Triangle can't be formed\"\n",
        "\n",
        "    if num1<(num2+num3) and num2<(num1+num3) and num3<(num1+num2):\n",
        "        return success\n",
        "    else:\n",
        "        return failure\n",
        "        \n",
        "#Provide different values for the variables, num1, num2, num3 and test your program\n",
        "num1=3\n",
        "num2=2\n",
        "num3=5\n",
        "print(form_triangle(num1, num2, num3))\n"
      ],
      "execution_count": 2,
      "outputs": [
        {
          "output_type": "stream",
          "text": [
            "Triangle can't be formed\n"
          ],
          "name": "stdout"
        }
      ]
    },
    {
      "cell_type": "code",
      "metadata": {
        "colab": {
          "base_uri": "https://localhost:8080/"
        },
        "id": "8bZ3Qu1phcfw",
        "outputId": "b5cfd0e2-e9ab-4348-ddb1-3623d6db070e"
      },
      "source": [
        "#PF-Assgn-26\n",
        "\n",
        "def solve(heads,legs):\n",
        "    error_msg=\"No solution\"\n",
        "    chicken_count=0\n",
        "    rabbit_count=0\n",
        "    if legs%2!=0 or heads==0 or heads>legs:\n",
        "        print(error_msg)\n",
        "    else:\n",
        "        rabbit_count=int((legs-(2*heads))/2)\n",
        "        chicken_count=int(heads-rabbit_count)\n",
        "        print(chicken_count,rabbit_count)\n",
        "\n",
        "    #Start writing your code here\n",
        "    #Populate the variables: chicken_count and rabbit_count\n",
        "\n",
        "    # Use the below given print statements to display the output\n",
        "    # Also, do not modify them for verification to work\n",
        "#Provide different values for heads and legs and test your program\n",
        "solve(35,94)\n"
      ],
      "execution_count": 3,
      "outputs": [
        {
          "output_type": "stream",
          "text": [
            "23 12\n"
          ],
          "name": "stdout"
        }
      ]
    },
    {
      "cell_type": "code",
      "metadata": {
        "colab": {
          "base_uri": "https://localhost:8080/",
          "height": 375
        },
        "id": "mfk74fo-ijtO",
        "outputId": "13952c30-c919-4281-ec54-7033486b3d95"
      },
      "source": [
        "import turtle           # allows us to use the turtles library\n",
        "wn = turtle.Screen()    # creates a graphics window\n",
        "wn.setup(500,500)       # set window dimension\n",
        "\n",
        "alex = turtle.Turtle()  # create a turtle named alex\n",
        "alex.shape(\"turtle\")    # alex looks like a turtle\n",
        "\n",
        "\n",
        "alex.color(\"green\")    # alex has a color\n",
        "alex.right(60)         # alex turns 60 degrees right\n",
        "alex.left(60)          # alex turns 60 degrees left\n",
        "alex.circle(50)        # draws a circle of radius 50\n",
        "#draws circles\n",
        "for counter in range(1,4):\n",
        "    alex.circle(20*counter)\n",
        "\n",
        "alex.color(\"red\")\n",
        "alex.left(120)\n",
        "alex.circle(50)\n",
        "for cntr in range(1,4):\n",
        "    alex.circle(20*cntr)\n",
        "\n",
        "alex.color(\"blue\")\n",
        "alex.right(240)\n",
        "alex.circle(50)\n",
        "for c in range(1,4):\n",
        "    alex.circle(20*c)\n",
        "#Write the logic to create the given pattern\n",
        "#Refer the statements given above to draw the pattern"
      ],
      "execution_count": 4,
      "outputs": [
        {
          "output_type": "error",
          "ename": "TclError",
          "evalue": "ignored",
          "traceback": [
            "\u001b[0;31m---------------------------------------------------------------------------\u001b[0m",
            "\u001b[0;31mTclError\u001b[0m                                  Traceback (most recent call last)",
            "\u001b[0;32m<ipython-input-4-809fdeeab421>\u001b[0m in \u001b[0;36m<module>\u001b[0;34m()\u001b[0m\n\u001b[1;32m      1\u001b[0m \u001b[0;32mimport\u001b[0m \u001b[0mturtle\u001b[0m           \u001b[0;31m# allows us to use the turtles library\u001b[0m\u001b[0;34m\u001b[0m\u001b[0;34m\u001b[0m\u001b[0m\n\u001b[0;32m----> 2\u001b[0;31m \u001b[0mwn\u001b[0m \u001b[0;34m=\u001b[0m \u001b[0mturtle\u001b[0m\u001b[0;34m.\u001b[0m\u001b[0mScreen\u001b[0m\u001b[0;34m(\u001b[0m\u001b[0;34m)\u001b[0m    \u001b[0;31m# creates a graphics window\u001b[0m\u001b[0;34m\u001b[0m\u001b[0;34m\u001b[0m\u001b[0m\n\u001b[0m\u001b[1;32m      3\u001b[0m \u001b[0mwn\u001b[0m\u001b[0;34m.\u001b[0m\u001b[0msetup\u001b[0m\u001b[0;34m(\u001b[0m\u001b[0;36m500\u001b[0m\u001b[0;34m,\u001b[0m\u001b[0;36m500\u001b[0m\u001b[0;34m)\u001b[0m       \u001b[0;31m# set window dimension\u001b[0m\u001b[0;34m\u001b[0m\u001b[0;34m\u001b[0m\u001b[0m\n\u001b[1;32m      4\u001b[0m \u001b[0;34m\u001b[0m\u001b[0m\n\u001b[1;32m      5\u001b[0m \u001b[0malex\u001b[0m \u001b[0;34m=\u001b[0m \u001b[0mturtle\u001b[0m\u001b[0;34m.\u001b[0m\u001b[0mTurtle\u001b[0m\u001b[0;34m(\u001b[0m\u001b[0;34m)\u001b[0m  \u001b[0;31m# create a turtle named alex\u001b[0m\u001b[0;34m\u001b[0m\u001b[0;34m\u001b[0m\u001b[0m\n",
            "\u001b[0;32m/usr/lib/python3.6/turtle.py\u001b[0m in \u001b[0;36mScreen\u001b[0;34m()\u001b[0m\n\u001b[1;32m   3660\u001b[0m     else return the existing one.\"\"\"\n\u001b[1;32m   3661\u001b[0m     \u001b[0;32mif\u001b[0m \u001b[0mTurtle\u001b[0m\u001b[0;34m.\u001b[0m\u001b[0m_screen\u001b[0m \u001b[0;32mis\u001b[0m \u001b[0;32mNone\u001b[0m\u001b[0;34m:\u001b[0m\u001b[0;34m\u001b[0m\u001b[0;34m\u001b[0m\u001b[0m\n\u001b[0;32m-> 3662\u001b[0;31m         \u001b[0mTurtle\u001b[0m\u001b[0;34m.\u001b[0m\u001b[0m_screen\u001b[0m \u001b[0;34m=\u001b[0m \u001b[0m_Screen\u001b[0m\u001b[0;34m(\u001b[0m\u001b[0;34m)\u001b[0m\u001b[0;34m\u001b[0m\u001b[0;34m\u001b[0m\u001b[0m\n\u001b[0m\u001b[1;32m   3663\u001b[0m     \u001b[0;32mreturn\u001b[0m \u001b[0mTurtle\u001b[0m\u001b[0;34m.\u001b[0m\u001b[0m_screen\u001b[0m\u001b[0;34m\u001b[0m\u001b[0;34m\u001b[0m\u001b[0m\n\u001b[1;32m   3664\u001b[0m \u001b[0;34m\u001b[0m\u001b[0m\n",
            "\u001b[0;32m/usr/lib/python3.6/turtle.py\u001b[0m in \u001b[0;36m__init__\u001b[0;34m(self)\u001b[0m\n\u001b[1;32m   3676\u001b[0m         \u001b[0;31m# preserved (perhaps by passing it as an optional parameter)\u001b[0m\u001b[0;34m\u001b[0m\u001b[0;34m\u001b[0m\u001b[0;34m\u001b[0m\u001b[0m\n\u001b[1;32m   3677\u001b[0m         \u001b[0;32mif\u001b[0m \u001b[0m_Screen\u001b[0m\u001b[0;34m.\u001b[0m\u001b[0m_root\u001b[0m \u001b[0;32mis\u001b[0m \u001b[0;32mNone\u001b[0m\u001b[0;34m:\u001b[0m\u001b[0;34m\u001b[0m\u001b[0;34m\u001b[0m\u001b[0m\n\u001b[0;32m-> 3678\u001b[0;31m             \u001b[0m_Screen\u001b[0m\u001b[0;34m.\u001b[0m\u001b[0m_root\u001b[0m \u001b[0;34m=\u001b[0m \u001b[0mself\u001b[0m\u001b[0;34m.\u001b[0m\u001b[0m_root\u001b[0m \u001b[0;34m=\u001b[0m \u001b[0m_Root\u001b[0m\u001b[0;34m(\u001b[0m\u001b[0;34m)\u001b[0m\u001b[0;34m\u001b[0m\u001b[0;34m\u001b[0m\u001b[0m\n\u001b[0m\u001b[1;32m   3679\u001b[0m             \u001b[0mself\u001b[0m\u001b[0;34m.\u001b[0m\u001b[0m_root\u001b[0m\u001b[0;34m.\u001b[0m\u001b[0mtitle\u001b[0m\u001b[0;34m(\u001b[0m\u001b[0m_Screen\u001b[0m\u001b[0;34m.\u001b[0m\u001b[0m_title\u001b[0m\u001b[0;34m)\u001b[0m\u001b[0;34m\u001b[0m\u001b[0;34m\u001b[0m\u001b[0m\n\u001b[1;32m   3680\u001b[0m             \u001b[0mself\u001b[0m\u001b[0;34m.\u001b[0m\u001b[0m_root\u001b[0m\u001b[0;34m.\u001b[0m\u001b[0mondestroy\u001b[0m\u001b[0;34m(\u001b[0m\u001b[0mself\u001b[0m\u001b[0;34m.\u001b[0m\u001b[0m_destroy\u001b[0m\u001b[0;34m)\u001b[0m\u001b[0;34m\u001b[0m\u001b[0;34m\u001b[0m\u001b[0m\n",
            "\u001b[0;32m/usr/lib/python3.6/turtle.py\u001b[0m in \u001b[0;36m__init__\u001b[0;34m(self)\u001b[0m\n\u001b[1;32m    432\u001b[0m     \u001b[0;34m\"\"\"Root class for Screen based on Tkinter.\"\"\"\u001b[0m\u001b[0;34m\u001b[0m\u001b[0;34m\u001b[0m\u001b[0m\n\u001b[1;32m    433\u001b[0m     \u001b[0;32mdef\u001b[0m \u001b[0m__init__\u001b[0m\u001b[0;34m(\u001b[0m\u001b[0mself\u001b[0m\u001b[0;34m)\u001b[0m\u001b[0;34m:\u001b[0m\u001b[0;34m\u001b[0m\u001b[0;34m\u001b[0m\u001b[0m\n\u001b[0;32m--> 434\u001b[0;31m         \u001b[0mTK\u001b[0m\u001b[0;34m.\u001b[0m\u001b[0mTk\u001b[0m\u001b[0;34m.\u001b[0m\u001b[0m__init__\u001b[0m\u001b[0;34m(\u001b[0m\u001b[0mself\u001b[0m\u001b[0;34m)\u001b[0m\u001b[0;34m\u001b[0m\u001b[0;34m\u001b[0m\u001b[0m\n\u001b[0m\u001b[1;32m    435\u001b[0m \u001b[0;34m\u001b[0m\u001b[0m\n\u001b[1;32m    436\u001b[0m     \u001b[0;32mdef\u001b[0m \u001b[0msetupcanvas\u001b[0m\u001b[0;34m(\u001b[0m\u001b[0mself\u001b[0m\u001b[0;34m,\u001b[0m \u001b[0mwidth\u001b[0m\u001b[0;34m,\u001b[0m \u001b[0mheight\u001b[0m\u001b[0;34m,\u001b[0m \u001b[0mcwidth\u001b[0m\u001b[0;34m,\u001b[0m \u001b[0mcheight\u001b[0m\u001b[0;34m)\u001b[0m\u001b[0;34m:\u001b[0m\u001b[0;34m\u001b[0m\u001b[0;34m\u001b[0m\u001b[0m\n",
            "\u001b[0;32m/usr/lib/python3.6/tkinter/__init__.py\u001b[0m in \u001b[0;36m__init__\u001b[0;34m(self, screenName, baseName, className, useTk, sync, use)\u001b[0m\n\u001b[1;32m   2021\u001b[0m                 \u001b[0mbaseName\u001b[0m \u001b[0;34m=\u001b[0m \u001b[0mbaseName\u001b[0m \u001b[0;34m+\u001b[0m \u001b[0mext\u001b[0m\u001b[0;34m\u001b[0m\u001b[0;34m\u001b[0m\u001b[0m\n\u001b[1;32m   2022\u001b[0m         \u001b[0minteractive\u001b[0m \u001b[0;34m=\u001b[0m \u001b[0;36m0\u001b[0m\u001b[0;34m\u001b[0m\u001b[0;34m\u001b[0m\u001b[0m\n\u001b[0;32m-> 2023\u001b[0;31m         \u001b[0mself\u001b[0m\u001b[0;34m.\u001b[0m\u001b[0mtk\u001b[0m \u001b[0;34m=\u001b[0m \u001b[0m_tkinter\u001b[0m\u001b[0;34m.\u001b[0m\u001b[0mcreate\u001b[0m\u001b[0;34m(\u001b[0m\u001b[0mscreenName\u001b[0m\u001b[0;34m,\u001b[0m \u001b[0mbaseName\u001b[0m\u001b[0;34m,\u001b[0m \u001b[0mclassName\u001b[0m\u001b[0;34m,\u001b[0m \u001b[0minteractive\u001b[0m\u001b[0;34m,\u001b[0m \u001b[0mwantobjects\u001b[0m\u001b[0;34m,\u001b[0m \u001b[0museTk\u001b[0m\u001b[0;34m,\u001b[0m \u001b[0msync\u001b[0m\u001b[0;34m,\u001b[0m \u001b[0muse\u001b[0m\u001b[0;34m)\u001b[0m\u001b[0;34m\u001b[0m\u001b[0;34m\u001b[0m\u001b[0m\n\u001b[0m\u001b[1;32m   2024\u001b[0m         \u001b[0;32mif\u001b[0m \u001b[0museTk\u001b[0m\u001b[0;34m:\u001b[0m\u001b[0;34m\u001b[0m\u001b[0;34m\u001b[0m\u001b[0m\n\u001b[1;32m   2025\u001b[0m             \u001b[0mself\u001b[0m\u001b[0;34m.\u001b[0m\u001b[0m_loadtk\u001b[0m\u001b[0;34m(\u001b[0m\u001b[0;34m)\u001b[0m\u001b[0;34m\u001b[0m\u001b[0;34m\u001b[0m\u001b[0m\n",
            "\u001b[0;31mTclError\u001b[0m: no display name and no $DISPLAY environment variable"
          ]
        }
      ]
    },
    {
      "cell_type": "code",
      "metadata": {
        "colab": {
          "base_uri": "https://localhost:8080/"
        },
        "id": "NgotStRii3sw",
        "outputId": "2cb4aeb8-b6ec-469b-b74b-d91128521b3d"
      },
      "source": [
        "#PF-Assgn-28\n",
        "\n",
        "def is_sum_multiple_of_three(num):\n",
        "    summ=0 \n",
        "    while num!=0:\n",
        "        summ=summ+num%10 \n",
        "        num=num//10\n",
        "    if summ%3==0:\n",
        "        return True\n",
        "    else:\n",
        "        return False\n",
        "\n",
        "def find_max(num1, num2):\n",
        "    max_num=-1\n",
        "    # Write your logic here\n",
        "    list1=[]\n",
        "    if num1<num2:\n",
        "        for num in range(num1,num2+1):\n",
        "            if num%5==0 and num>9 and num<100 and is_sum_multiple_of_three(num)==True:\n",
        "                list1.append(num)\n",
        "              \n",
        "        if len(list1)>0:\n",
        "            max_num=max(list1)  \n",
        "    return max_num\n",
        "\n",
        "#Provide different values for num1 and num2 and test your program.\n",
        "max_num=find_max(14,2)\n",
        "print(max_num)"
      ],
      "execution_count": 5,
      "outputs": [
        {
          "output_type": "stream",
          "text": [
            "-1\n"
          ],
          "name": "stdout"
        }
      ]
    },
    {
      "cell_type": "code",
      "metadata": {
        "id": "7_E8cMr05JzG"
      },
      "source": [
        ""
      ],
      "execution_count": null,
      "outputs": []
    }
  ]
}