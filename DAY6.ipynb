{
  "nbformat": 4,
  "nbformat_minor": 0,
  "metadata": {
    "colab": {
      "name": "DAY6.ipynb",
      "provenance": [],
      "authorship_tag": "ABX9TyNc6i47YC9TXXTG6RZr5utd",
      "include_colab_link": true
    },
    "kernelspec": {
      "name": "python3",
      "display_name": "Python 3"
    }
  },
  "cells": [
    {
      "cell_type": "markdown",
      "metadata": {
        "id": "view-in-github",
        "colab_type": "text"
      },
      "source": [
        "<a href=\"https://colab.research.google.com/github/akhilreddy-byte/Assigments/blob/main/DAY6.ipynb\" target=\"_parent\"><img src=\"https://colab.research.google.com/assets/colab-badge.svg\" alt=\"Open In Colab\"/></a>"
      ]
    },
    {
      "cell_type": "code",
      "metadata": {
        "colab": {
          "base_uri": "https://localhost:8080/"
        },
        "id": "8T4O0aXDAAZw",
        "outputId": "360555b9-25b9-49d7-a012-776a4046e263"
      },
      "source": [
        "#PF-Exer-30\n",
        "\n",
        "def find_average(mark_list):\n",
        "\ttotal=0\n",
        "\ttry:\n",
        "\t    for i in range(0, len(mark_list)):\n",
        "\t        total+=mark_list[i]\n",
        "\t    marks_avg=total/len(mark_list)\n",
        "\t    return marks_avg\n",
        "\texcept TypeError:\n",
        "\t    print(\"Wrong data type\")\n",
        "\texcept NameError:\n",
        "\t    print(\"Name Error\")\n",
        "\n",
        "try:\n",
        "    mark1=\"A\"\n",
        "    mark1=int(\"A\")\n",
        "    m_list=[mark1,2,3,4]\n",
        "    print(\"Average marks:\", find_average(m_list))\n",
        "except NameError:\n",
        "    print(\"Name Error from main\")\n",
        "except TypeError:\n",
        "    print(\"Type error from main\")\n",
        "except ValueError:\n",
        "    print(\"value error from main\")\n"
      ],
      "execution_count": 1,
      "outputs": [
        {
          "output_type": "stream",
          "text": [
            "value error from main\n"
          ],
          "name": "stdout"
        }
      ]
    },
    {
      "cell_type": "code",
      "metadata": {
        "colab": {
          "base_uri": "https://localhost:8080/"
        },
        "id": "dS8_9wLUAD27",
        "outputId": "305935f7-17b7-4bbf-8932-f733c2559944"
      },
      "source": [
        "#PF-Exer-32\n",
        "\n",
        "def human_pyramid(no_of_people):\n",
        "    if (no_of_people==1):\n",
        "        return 1*50\n",
        "    else:\n",
        "        return no_of_people*50+human_pyramid(no_of_people-2)\n",
        "\n",
        "def find_maximum_people(max_weight):\n",
        "    no_of_people=1\n",
        "    while True:\n",
        "        weight = human_pyramid(no_of_people)    \n",
        "        \n",
        "        if weight <= max_weight:\n",
        "            no_of_people += 2\n",
        "        else:\n",
        "            break\n",
        "        \n",
        "    return no_of_people-2\n",
        "\n",
        "#Provide different values for max_weight and test your program\n",
        "max_people=find_maximum_people(1000)\n",
        "print(max_people)\n"
      ],
      "execution_count": 2,
      "outputs": [
        {
          "output_type": "stream",
          "text": [
            "7\n"
          ],
          "name": "stdout"
        }
      ]
    },
    {
      "cell_type": "code",
      "metadata": {
        "colab": {
          "base_uri": "https://localhost:8080/"
        },
        "id": "VC0zsfj3C18b",
        "outputId": "9d30af9f-e86d-49ea-e662-4f7e916bd446"
      },
      "source": [
        "#PF-Assgn-40\n",
        "def is_palindrome(word):\n",
        "    if len(word) <= 1:\n",
        "        return True\n",
        "    if word[0] == word[len(word) - 1]:\n",
        "        return is_palindrome(word[1:len(word)-1])\n",
        "    else:\n",
        "        return False\n",
        "\n",
        "#Provide different values for word and test your program\n",
        "result=is_palindrome(\"madam\")\n",
        "if(result):\n",
        "    print(\"The given word is a Palindrome\")\n",
        "else:\n",
        "    print(\"The given word is not a Palindrome\")\n"
      ],
      "execution_count": 3,
      "outputs": [
        {
          "output_type": "stream",
          "text": [
            "The given word is a Palindrome\n"
          ],
          "name": "stdout"
        }
      ]
    },
    {
      "cell_type": "code",
      "metadata": {
        "id": "wso38NoGC-Va"
      },
      "source": [
        "#PF-Assgn-41\n",
        "def find_sum(num):\n",
        "    summ = 0\n",
        "    for n in num:\n",
        "        summ += int(n)\n",
        "    return summ\n",
        "    \n",
        "def find_ten_substring(num_str):\n",
        "    arr = []\n",
        "    for i in range(2, len(num_str)):\n",
        "        end_index = len(num_str)-i+1\n",
        "        for j in range(0, end_index):\n",
        "            if find_sum(num_str[j:j+i]) == 10:\n",
        "                arr.append(num_str[j:j+i])    \n",
        "    return arr\n",
        "    \n",
        "num_str=\"2825302\"\n",
        "print(\"The number is:\",num_str)\n",
        "result_list=find_ten_substring(num_str)\n",
        "print(result_list)\n"
      ],
      "execution_count": null,
      "outputs": []
    },
    {
      "cell_type": "code",
      "metadata": {
        "colab": {
          "base_uri": "https://localhost:8080/"
        },
        "id": "_R0Y07PxDUHs",
        "outputId": "0a93d0d6-9021-4549-e046-8b566452a789"
      },
      "source": [
        "#PF-Assgn-42\n",
        "def find_factors(num):\n",
        "    #Accepts a number and returns the list of all the factors of a given number\n",
        "    factors = []\n",
        "    for i in range(2,(num+1)):\n",
        "        if(num%i==0):\n",
        "            factors.append(i)\n",
        "    return factors\n",
        "\n",
        "def is_prime(num, i):\n",
        "    #Accepts the number num and num/2 --> i and returns True if the number is prime ,else returns False\n",
        "    if(i==1):\n",
        "        return True\n",
        "    elif(num%i==0):\n",
        "        return False;\n",
        "    else:\n",
        "        return(is_prime(num,i-1))\n",
        "\n",
        "def find_largest_prime_factor(list_of_factors):\n",
        "    #Accepts the list of factors and returns the largest prime factor\n",
        "    lis = []\n",
        "    for factor in list_of_factors:\n",
        "        if is_prime(factor, factor//2):\n",
        "            lis.append(factor)\n",
        "    return max(lis)\n",
        "\n",
        "def find_f(num):\n",
        "    #Accepts the number and returns the largest prime factor of the number\n",
        "    lis = find_factors(num)\n",
        "    largest_pf = find_largest_prime_factor(lis)\n",
        "    return largest_pf\n",
        "def find_g(num):\n",
        "    #Accepts the number and returns the sum of the largest prime factors of the 9 consecutive numbers starting from the given number\n",
        "    factors_sum=0\n",
        "    for i in range(num, num+9):\n",
        "        factors_sum = factors_sum+find_f(i)\n",
        "        \n",
        "    return factors_sum\n",
        "#Note: Invoke function(s) from other function(s), wherever applicable.\n",
        "\n",
        "print(find_g(3))\n"
      ],
      "execution_count": 4,
      "outputs": [
        {
          "output_type": "stream",
          "text": [
            "41\n"
          ],
          "name": "stdout"
        }
      ]
    },
    {
      "cell_type": "code",
      "metadata": {
        "colab": {
          "base_uri": "https://localhost:8080/"
        },
        "id": "UljzVlTeDn-K",
        "outputId": "c9e31db9-3bb0-4864-faa6-fe3b23e1788a"
      },
      "source": [
        "\n",
        "#PF-Assgn-43\n",
        "def find_divisors(num):\n",
        "    divisors=[]\n",
        "    for i in range(1, num+1):\n",
        "        if num%i==0:\n",
        "            divisors.append(i)\n",
        "    return len(divisors)\n",
        "\n",
        "def find_smallest_number(num):\n",
        "    for i in range(2, 1000):\n",
        "        if find_divisors(i) == num:\n",
        "            return i\n",
        "    \n",
        "num=16\n",
        "print(\"The number of divisors :\",num)\n",
        "result=find_smallest_number(num)\n",
        "print(\"The smallest number having\",num,\" divisors:\",result)"
      ],
      "execution_count": 5,
      "outputs": [
        {
          "output_type": "stream",
          "text": [
            "The number of divisors : 16\n",
            "The smallest number having 16  divisors: 120\n"
          ],
          "name": "stdout"
        }
      ]
    },
    {
      "cell_type": "code",
      "metadata": {
        "colab": {
          "base_uri": "https://localhost:8080/"
        },
        "id": "KFi9kxh2DpbE",
        "outputId": "1160ad35-0f12-4e9e-d0fb-31be3b463cc2"
      },
      "source": [
        "#PF-Assgn-44\n",
        "\n",
        "def find_duplicates(list_of_numbers):\n",
        "    duplicates_list=[]\n",
        "    list_set=set(list_of_numbers)\n",
        "    for num in list_set:\n",
        "        count=list_of_numbers.count(num)\n",
        "        if count>1:\n",
        "            duplicates_list.append(num)\n",
        "    return sorted(duplicates_list)\n",
        "\n",
        "list_of_numbers=[12,54,68,759,24,15,12,68,987,758,25,69]\n",
        "list_of_duplicates=find_duplicates(list_of_numbers)\n",
        "print(list_of_duplicates)\n"
      ],
      "execution_count": 6,
      "outputs": [
        {
          "output_type": "stream",
          "text": [
            "[12, 68]\n"
          ],
          "name": "stdout"
        }
      ]
    }
  ]
}