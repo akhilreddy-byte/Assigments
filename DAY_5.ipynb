{
  "nbformat": 4,
  "nbformat_minor": 0,
  "metadata": {
    "colab": {
      "name": "DAY 5.ipynb",
      "provenance": [],
      "authorship_tag": "ABX9TyMPScw5KmOexIphu1wDev+Z",
      "include_colab_link": true
    },
    "kernelspec": {
      "name": "python3",
      "display_name": "Python 3"
    }
  },
  "cells": [
    {
      "cell_type": "markdown",
      "metadata": {
        "id": "view-in-github",
        "colab_type": "text"
      },
      "source": [
        "<a href=\"https://colab.research.google.com/github/akhilreddy-byte/Assigments/blob/main/DAY_5.ipynb\" target=\"_parent\"><img src=\"https://colab.research.google.com/assets/colab-badge.svg\" alt=\"Open In Colab\"/></a>"
      ]
    },
    {
      "cell_type": "code",
      "metadata": {
        "colab": {
          "base_uri": "https://localhost:8080/"
        },
        "id": "btI9NCcQ5zqp",
        "outputId": "647103e4-635f-4c88-9ba2-feee944f1809"
      },
      "source": [
        "#PF-Exer-26\n",
        "\n",
        "def factorial(number):\n",
        "    fact=1\n",
        "    if number==0 or number==1:\n",
        "        return 1\n",
        "    else:\n",
        "        while number>0:\n",
        "            fact=fact*number\n",
        "            number=number-1\n",
        "        return fact\n",
        "    \n",
        "\n",
        "def find_strong_numbers(num_list):\n",
        "    strong_list=[]\n",
        "    \n",
        "    for i in num_list:\n",
        "        if i!=0:\n",
        "            \n",
        "            num=i\n",
        "            str_num=0\n",
        "            while num!=0:\n",
        "                fact=num%10\n",
        "                str_num=str_num+factorial(fact)\n",
        "                num=num//10\n",
        "            if i==str_num:\n",
        "                strong_list.append(i)\n",
        "    return strong_list\n",
        "\n",
        "\n",
        "num_list=[145,2,0]\n",
        "strong_num_list=find_strong_numbers(num_list)\n",
        "print(strong_num_list)\n"
      ],
      "execution_count": 1,
      "outputs": [
        {
          "output_type": "stream",
          "text": [
            "[145, 2]\n"
          ],
          "name": "stdout"
        }
      ]
    },
    {
      "cell_type": "code",
      "metadata": {
        "colab": {
          "base_uri": "https://localhost:8080/"
        },
        "id": "pDu5pNBh53hO",
        "outputId": "f8903160-6ef9-4e96-da93-078f609cf4b9"
      },
      "source": [
        "def withdraw_transcation(amount,value):\n",
        "    balance=balance_list[value]\n",
        "    new_balance=balance-amount\n",
        "    if(new_balance >= 500):\n",
        "        balance_list[value]=new_balance\n",
        "        print(\"Transaction completed successfully\")\n",
        "        print(\"Balance Amount :\", new_balance)\n",
        "    else:\n",
        "        print(\"Insufficient Balance\")\n",
        "    \n",
        "def deposit_transcation(amount,value):\n",
        "        balance=balance_list[value]\n",
        "        new_balance=balance+amount\n",
        "        balance_list[value]=new_balance\n",
        "        print(\"Transaction completed successfully\")\n",
        "        print(\"Balance Amount :\", new_balance)\n",
        "        \n",
        "def balance_enquiry(value):\n",
        "    balance=balance_list[value]\n",
        "    print(\"Balance Amount :\", balance)\n",
        "    \n",
        "def validate_account_number_and_transcation_type():\n",
        "    flag=None \n",
        "    value=0\n",
        "    for index in range(0,len(account_list)):\n",
        "        if(account_list[index]==account_number):\n",
        "            flag=True\n",
        "            value=index\n",
        "            break\n",
        "    if flag==True:\n",
        "        if(transaction_type==\"Withdraw\"):\n",
        "            withdraw_transcation(amount,value)\n",
        "        elif(transaction_type==\"Deposit\"):\n",
        "            deposit_transcation(amount,value)\n",
        "        elif(transaction_type==\"Balance Enquiry\"):\n",
        "            balance_enquiry(value)\n",
        "        else:\n",
        "            print(\"Invalid Transaction Type\")\n",
        "            \n",
        "account_list=[1001,1002,1003,1004,1005]\n",
        "balance_list=[2500,10000,7000,1500,500]\n",
        "amount=2000\n",
        "account_number=1003\n",
        "transaction_type=\"Withdraw\"\n",
        "\n",
        "validate_account_number_and_transcation_type()"
      ],
      "execution_count": 2,
      "outputs": [
        {
          "output_type": "stream",
          "text": [
            "Transaction completed successfully\n",
            "Balance Amount : 5000\n"
          ],
          "name": "stdout"
        }
      ]
    },
    {
      "cell_type": "code",
      "metadata": {
        "colab": {
          "base_uri": "https://localhost:8080/"
        },
        "id": "7lnjxdxu6kaY",
        "outputId": "35f98359-73db-40de-d826-6b26c01644b3"
      },
      "source": [
        "#PF-Exer-28\n",
        "                                              \n",
        "#This method accepts the name of winner of each match of the day\n",
        "def find_winner_of_the_day(*match_tuple):\n",
        "    #Remove pass and write the logic here\n",
        "    team1_won_count=match_tuple.count(\"Team1\")\n",
        "    team2_won_count=match_tuple.count(\"Team2\")\n",
        "    if team1_won_count>team2_won_count:\n",
        "        return \"Team1\"\n",
        "    elif team1_won_count==team2_won_count:\n",
        "        return \"Tie\"\n",
        "    else:\n",
        "        return \"Team2\"\n",
        "\n",
        "#Invoke the function with each of the print statements given below\n",
        "print(find_winner_of_the_day(\"Team1\",\"Team2\",\"Team2\",\"Team1\",\"Team2\"))\n",
        "#print(find_winner_of_the_day(\"Team1\",\"Team2\",\"Team1\",\"Team2\"))\n"
      ],
      "execution_count": 3,
      "outputs": [
        {
          "output_type": "stream",
          "text": [
            "Team2\n"
          ],
          "name": "stdout"
        }
      ]
    },
    {
      "cell_type": "code",
      "metadata": {
        "id": "dNwa2lAc6l5Z"
      },
      "source": [
        "#PF-Exer-29\n",
        "def merge_lists(list1,list2):\n",
        "    new_merge_list=list1+list2\n",
        "    return new_merge_list\n",
        "    \n",
        "def sort_list(merged_list):\n",
        "    return sorted(merged_list)\n",
        "\n",
        "#Provide different values for list1 and list2 and test your program\n",
        "merged_list=merge_lists(list1=[1,2,3,4,1] ,list2=[2,3,4,5,4,6])\n",
        "print(merged_list)\n",
        "sorted_merged_list=sort_list(merged_list)\n",
        "print(sorted_merged_list)"
      ],
      "execution_count": null,
      "outputs": []
    },
    {
      "cell_type": "code",
      "metadata": {
        "colab": {
          "base_uri": "https://localhost:8080/"
        },
        "id": "Mamgss1n7mEk",
        "outputId": "705c3965-0811-4605-be4e-0cf33407a587"
      },
      "source": [
        "#PF-Assgn-34\n",
        "def find_pairs_of_numbers(num_list,n):\n",
        "    count_of_pairs=0\n",
        "    for i in range(0,len(num_list)-1):\n",
        "        for j in range(i+1, len(num_list)):\n",
        "            curr_val=num_list[i]\n",
        "            nex_val=num_list[j]\n",
        "            if curr_val<=n and nex_val<=n:\n",
        "                if curr_val+nex_val==n:\n",
        "                    count_of_pairs+=1 \n",
        "                    break\n",
        "    return count_of_pairs\n",
        "num_list=[1, 2, 7, 4, 5, 6]\n",
        "n=6\n",
        "print(find_pairs_of_numbers(num_list,n))\n"
      ],
      "execution_count": 6,
      "outputs": [
        {
          "output_type": "stream",
          "text": [
            "2\n"
          ],
          "name": "stdout"
        }
      ]
    },
    {
      "cell_type": "code",
      "metadata": {
        "id": "DiNqw1-O7s1A"
      },
      "source": [
        "#PF-Assgn-35\n",
        "\n",
        "#Global variable\n",
        "list_of_marks=(12,18,25,24,2,5,18,20,20,21)\n",
        "\n",
        "def find_more_than_average():\n",
        "    class_average=sum(list_of_marks)/10\n",
        "    count_of_studs_scored_above_avg=sum(map(lambda x:x>class_average,list_of_marks))\n",
        "    \n",
        "    return (count_of_studs_scored_above_avg/10)*100\n",
        "    \n",
        "def sort_marks():\n",
        "    return sorted(list_of_marks)\n",
        "\n",
        "def generate_frequency():\n",
        "    mark_frequency_list=[0]*26\n",
        "    for mark in list_of_marks:\n",
        "        mark_frequency_list[mark]+=1\n",
        "    return mark_frequency_list\n",
        "        \n",
        "print(find_more_than_average())\n",
        "print(generate_frequency())\n",
        "print(sort_marks())"
      ],
      "execution_count": null,
      "outputs": []
    },
    {
      "cell_type": "code",
      "metadata": {
        "colab": {
          "base_uri": "https://localhost:8080/"
        },
        "id": "PNM0KKYh8BiK",
        "outputId": "cb4ce76b-a642-44e0-fa20-139bc4e7a31d"
      },
      "source": [
        "#PF-Assgn-36\n",
        "def create_largest_number(number_list):\n",
        "    num=''\n",
        "    number_list.sort(reverse=True)\n",
        "    for no in number_list:\n",
        "        num=num+str(no)\n",
        "    return int(num)\n",
        "\n",
        "number_list=[23,45,67]\n",
        "largest_number=create_largest_number(number_list)\n",
        "print(largest_number)"
      ],
      "execution_count": 8,
      "outputs": [
        {
          "output_type": "stream",
          "text": [
            "674523\n"
          ],
          "name": "stdout"
        }
      ]
    },
    {
      "cell_type": "code",
      "metadata": {
        "colab": {
          "base_uri": "https://localhost:8080/"
        },
        "id": "MxTz3xAb8w2d",
        "outputId": "c634f307-5cc1-4d53-b14f-e702f095992a"
      },
      "source": [
        "#PF-Assgn-37\n",
        "\n",
        "#Global variables\n",
        "child_id=(101, 201, 301, 401, 501)\n",
        "chocolates_received=[10, 5, 3, 2, 4]\n",
        "\n",
        "def calculate_total_chocolates():\n",
        "    return sum(chocolates_received)\n",
        "\n",
        "def reward_child(child_id_rewarded,extra_chocolates):\n",
        "    if extra_chocolates>0:\n",
        "        if child_id_rewarded in child_id:\n",
        "            child_id_index=child_id.index(child_id_rewarded)\n",
        "            chocolates_received[child_id_index]+=extra_chocolates\n",
        "            print(chocolates_received)\n",
        "        else:\n",
        "            print(\"Child id is invalid\")\n",
        "    else:\n",
        "        print(\"Extra chocolates is less than 1\")    \n",
        "\n",
        "print(calculate_total_chocolates())\n",
        "#Test your code by passing different values for child_id_rewarded,extra_chocolates\n",
        "reward_child(201,2)"
      ],
      "execution_count": 7,
      "outputs": [
        {
          "output_type": "stream",
          "text": [
            "24\n",
            "[10, 7, 3, 2, 4]\n"
          ],
          "name": "stdout"
        }
      ]
    },
    {
      "cell_type": "code",
      "metadata": {
        "id": "uAEVvvbF9EwF"
      },
      "source": [
        "#PF-Assgn-38\n",
        "def check_double(number):\n",
        "    double_of_number=2*number\n",
        "    str_num=str(number)\n",
        "    str_dbl_num=str(double_of_number)\n",
        "    if len(str_num)==len(str_dbl_num):\n",
        "        for i in range(0,len(str_num)):\n",
        "            if str_num[i] in str_dbl_num:\n",
        "                continue\n",
        "            else:\n",
        "                return False \n",
        "    else:\n",
        "        return False\n",
        "        \n",
        "    return True\n",
        "#Provide different values for number and test your program\n",
        "print(check_double(9))"
      ],
      "execution_count": null,
      "outputs": []
    },
    {
      "cell_type": "code",
      "metadata": {
        "colab": {
          "base_uri": "https://localhost:8080/"
        },
        "id": "35rAnrrM9z1Q",
        "outputId": "295ea8c9-4375-4e86-917d-dead66b586ed"
      },
      "source": [
        "\n",
        "menu=('Veg Roll','Noodles','Fried Rice','Soup')\n",
        "quantity_available=[2,200,3,0]\n",
        "\n",
        "def place_order(*item_tuple):\n",
        "    for i in range(0,len(item_tuple),2):\n",
        "        item_name=item_tuple[i]\n",
        "        if item_name in menu:\n",
        "            if check_quantity_available(menu.index(item_name),item_tuple[i+1])==True:\n",
        "                print(item_name,\"is available\")\n",
        "            else:\n",
        "                print(item_name,\"stock is over\")\n",
        "                break\n",
        "        else:\n",
        "            print(item_name,\" is not available\")\n",
        "        \n",
        "def check_quantity_available(index,quantity_requested):\n",
        "    if quantity_requested<=quantity_available[index]:\n",
        "        quantity_available[index]-=quantity_requested\n",
        "        return True\n",
        "    else:\n",
        "        return False\n",
        "#Provide different values for items ordered and test your program\n",
        "place_order(\"Fried Rice\",2,\"Soup\",2)\n",
        "#place_order(\"Soup\",1,\"Veg Roll\", 2, \"Fried Rice1\",1)"
      ],
      "execution_count": 9,
      "outputs": [
        {
          "output_type": "stream",
          "text": [
            "Fried Rice is available\n",
            "Soup stock is over\n"
          ],
          "name": "stdout"
        }
      ]
    }
  ]
}