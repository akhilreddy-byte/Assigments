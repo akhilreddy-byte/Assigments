{
  "nbformat": 4,
  "nbformat_minor": 0,
  "metadata": {
    "colab": {
      "name": "DAY 7.ipynb",
      "provenance": [],
      "authorship_tag": "ABX9TyOIRn9bnSm5ufSk7Jt5wMT3",
      "include_colab_link": true
    },
    "kernelspec": {
      "name": "python3",
      "display_name": "Python 3"
    }
  },
  "cells": [
    {
      "cell_type": "markdown",
      "metadata": {
        "id": "view-in-github",
        "colab_type": "text"
      },
      "source": [
        "<a href=\"https://colab.research.google.com/github/akhilreddy-byte/Assigments/blob/main/DAY_7.ipynb\" target=\"_parent\"><img src=\"https://colab.research.google.com/assets/colab-badge.svg\" alt=\"Open In Colab\"/></a>"
      ]
    },
    {
      "cell_type": "code",
      "metadata": {
        "colab": {
          "base_uri": "https://localhost:8080/"
        },
        "id": "4eFNpKpZC3YO",
        "outputId": "a02df2ae-73c2-462e-a499-e53db15f6fab"
      },
      "source": [
        "#PF-Tryout\n",
        "import random\n",
        "\n",
        "def guess_number(number_in_mind):\n",
        "    while True:\n",
        "        x=random.randrange(1,11)\n",
        "        if x == number_in_mind:\n",
        "            print ('You have got it right!!!')\n",
        "            break\n",
        "        elif x < number_in_mind:\n",
        "            print ('Number is low')           \n",
        "        else:\n",
        "            print ('Number is high')           \n",
        "\n",
        "#Provide different values for number_in_mind and test your program\n",
        "guess_number(4)\n"
      ],
      "execution_count": 1,
      "outputs": [
        {
          "output_type": "stream",
          "text": [
            "Number is low\n",
            "Number is high\n",
            "Number is low\n",
            "Number is high\n",
            "Number is high\n",
            "Number is high\n",
            "Number is high\n",
            "Number is low\n",
            "Number is high\n",
            "Number is low\n",
            "Number is high\n",
            "Number is high\n",
            "Number is low\n",
            "Number is high\n",
            "Number is high\n",
            "Number is high\n",
            "Number is high\n",
            "Number is high\n",
            "Number is high\n",
            "Number is high\n",
            "Number is low\n",
            "Number is low\n",
            "Number is high\n",
            "Number is high\n",
            "You have got it right!!!\n"
          ],
          "name": "stdout"
        }
      ]
    },
    {
      "cell_type": "code",
      "metadata": {
        "colab": {
          "base_uri": "https://localhost:8080/"
        },
        "id": "vJd2DTH9C4DI",
        "outputId": "52881176-0042-4e13-bf3d-12f7d7bd14fb"
      },
      "source": [
        "#PF-Exer-34\n",
        "import math\n",
        "\n",
        "def find_number_of_combination(number_of_flavours):\n",
        "    total_combination=0\n",
        "    n=number_of_flavours\n",
        "    x=math.factorial(n)\n",
        "    for r in range(number_of_flavours+1):\n",
        "        y=math.factorial(r)\n",
        "        z=math.factorial(n-r)\n",
        "        c=x/(y*z)\n",
        "        total_combination+=c\n",
        "    \n",
        "    return total_combination\n",
        "\n",
        "\n",
        "#Provide different values for number_of_flavours and test your program\n",
        "number_of_combination=find_number_of_combination(6)\n",
        "print(number_of_combination)"
      ],
      "execution_count": 2,
      "outputs": [
        {
          "output_type": "stream",
          "text": [
            "64.0\n"
          ],
          "name": "stdout"
        }
      ]
    },
    {
      "cell_type": "code",
      "metadata": {
        "id": "GhQt46S9DGAo"
      },
      "source": [
        "#PF-Exer-35\n",
        "\n",
        "def count_names(name_list):\n",
        "    count1=0\n",
        "    count2=0\n",
        "    for i in name_list:\n",
        "        if len(i)>2 and i.endswith('at'):\n",
        "            count1+=1\n",
        "        if i.count('at'):\n",
        "            count2+=1\n",
        "            \n",
        "    print(\"_at -> \",count1)\n",
        "    print(\"%at% -> \",count2)\n",
        "\n",
        "#Provide different names in the list and test your program\n",
        "name_list=[\"Hat\",\"Cat\",\"rabbit\",\"matter\"]\n",
        "count_names(name_list)"
      ],
      "execution_count": null,
      "outputs": []
    },
    {
      "cell_type": "code",
      "metadata": {
        "id": "xCR9mnRIDGU6"
      },
      "source": [
        "#PF-Assgn-46\n",
        "def is_palindrome(num):\n",
        "    tem=str(num)\n",
        "    if tem==tem[::-1]:\n",
        "        return True\n",
        "\n",
        "def nearest_palindrome(number):\n",
        "    while True:\n",
        "        if is_palindrome(number):\n",
        "            return number\n",
        "        else:\n",
        "            number+=1 \n",
        "\n",
        "number=12300\n",
        "print(nearest_palindrome(number))"
      ],
      "execution_count": null,
      "outputs": []
    },
    {
      "cell_type": "code",
      "metadata": {
        "colab": {
          "base_uri": "https://localhost:8080/"
        },
        "id": "GZpRE3TYDG0_",
        "outputId": "4e5829a7-e271-4879-dc5f-07a96377e871"
      },
      "source": [
        "#PF-Assgn-47\n",
        "def encrypt_sentence(sentence):\n",
        "    #start writing your code here\n",
        "    fin=\"\"\n",
        "    lis=sentence.split()\n",
        "    for i in range(0,len(lis)):\n",
        "        temp=\"\"\n",
        "        if i%2==0:\n",
        "            temp=lis[i]\n",
        "            fin=fin+temp[::-1]+' '\n",
        "        else:\n",
        "            temp=lis[i]\n",
        "            tem=\"\"\n",
        "            vow=\"\"\n",
        "            conso=\"\"\n",
        "            for i in temp:\n",
        "                if i=='a' or i=='A' or i=='e' or i=='E' or i=='i' or i=='I' or i=='o' or i=='O' or i=='u' or i=='U':\n",
        "                    vow=vow+i\n",
        "                else:\n",
        "                    conso=conso+i\n",
        "            tem=conso+vow\n",
        "        \n",
        "            fin=fin+tem+' '\n",
        "    fin=fin.strip()\n",
        "    return fin\n",
        "\n",
        "sentence=\"The sun rises in the east\"\n",
        "encrypted_sentence=encrypt_sentence(sentence)\n",
        "print(encrypted_sentence)"
      ],
      "execution_count": 3,
      "outputs": [
        {
          "output_type": "stream",
          "text": [
            "ehT snu sesir ni eht stea\n"
          ],
          "name": "stdout"
        }
      ]
    },
    {
      "cell_type": "code",
      "metadata": {
        "id": "KXSlQ3LkDHAu"
      },
      "source": [
        "#PF-Assgn-48\n",
        "\n",
        "def find_correct(word_dict):\n",
        "    correct_list=[0]*3\n",
        "    for key,value in word_dict.items():\n",
        "        if len(key) == len(value):\n",
        "            difference=0\n",
        "            for i in range(len(key)):\n",
        "                if key[i]==value[i]:\n",
        "                    continue\n",
        "                else:\n",
        "                    difference+=1\n",
        "            if difference == 0:\n",
        "                correct_list[0]+=1\n",
        "            elif difference < 3:\n",
        "                correct_list[1]+=1 \n",
        "            else:\n",
        "                correct_list[2]+=1\n",
        "        else:\n",
        "           correct_list[2]+=1 \n",
        "    return correct_list\n",
        "\n",
        "word_dict={\"THEIR\": \"THEIR\",\"BUSINESS\":\"BISINESS\",\"WINDOWS\":\"WINDMILL\",\"WERE\":\"WEAR\",\"SAMPLE\":\"SAMPLE\"}\n",
        "print(find_correct(word_dict))"
      ],
      "execution_count": null,
      "outputs": []
    },
    {
      "cell_type": "code",
      "metadata": {
        "id": "cvGuRfLBDnjh"
      },
      "source": [
        "#PF-Tryout\n",
        "#Start writing your code here\n",
        "import random\n",
        "probability=0.7\n",
        "for i in range(1,1001):\n",
        "    if random.random()<=probability:\n",
        "        print(\"Head\")\n",
        "    else:\n",
        "        print(\"Tail\")\n",
        "    \n",
        "    \n",
        "'''Testing\n",
        "#PF-Tryout\n",
        "#Start writing your code here\n",
        "import random\n",
        "probability=0.7\n",
        "lis=[0]*2\n",
        "for i in range(1,1001):\n",
        "    if random.random()<=probability:\n",
        "        lis[0]+=1\n",
        "    else:\n",
        "        lis[1]+=1\n",
        "print(lis)\n",
        "'''"
      ],
      "execution_count": null,
      "outputs": []
    },
    {
      "cell_type": "code",
      "metadata": {
        "id": "QR7oIZh7DoBf"
      },
      "source": [
        "#PF-Assgn-50\n",
        "def sms_encoding(data):\n",
        "    words=data.split()\n",
        "    final=''\n",
        "    for word in words:\n",
        "        if len(word)>1:\n",
        "            temp=''\n",
        "            for char in word:\n",
        "                if char!='a' and char!='e' and char!='i' and char != 'o' and char!='u' and char!='A' and char!='E' and char!='I' and char!='O' and char!='U':\n",
        "                    temp=temp+char\n",
        "            final=final+temp+' '\n",
        "        else:\n",
        "            final+=word+' '\n",
        "    return final.strip()\n",
        "    \n",
        "data=\"I love Python\"\n",
        "print(sms_encoding(data))"
      ],
      "execution_count": null,
      "outputs": []
    }
  ]
}