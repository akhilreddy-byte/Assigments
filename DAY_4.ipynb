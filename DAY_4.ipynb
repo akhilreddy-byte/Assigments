{
  "nbformat": 4,
  "nbformat_minor": 0,
  "metadata": {
    "colab": {
      "name": "DAY 4.ipynb",
      "provenance": [],
      "authorship_tag": "ABX9TyMRibZrcUEKuoZI4R/sy+kq",
      "include_colab_link": true
    },
    "kernelspec": {
      "name": "python3",
      "display_name": "Python 3"
    }
  },
  "cells": [
    {
      "cell_type": "markdown",
      "metadata": {
        "id": "view-in-github",
        "colab_type": "text"
      },
      "source": [
        "<a href=\"https://colab.research.google.com/github/akhilreddy-byte/Assigments/blob/main/DAY_4.ipynb\" target=\"_parent\"><img src=\"https://colab.research.google.com/assets/colab-badge.svg\" alt=\"Open In Colab\"/></a>"
      ]
    },
    {
      "cell_type": "code",
      "metadata": {
        "colab": {
          "base_uri": "https://localhost:8080/"
        },
        "id": "ai26lHgu5t0c",
        "outputId": "497e66fe-c78f-4bf5-c918-5a41c7eff029"
      },
      "source": [
        "#PF-Exer-22\n",
        "\n",
        "def generate_ticket(airline,source,destination,no_of_passengers):\n",
        "    ticket_number_list=[]\n",
        "    total_ticket_list=[]\n",
        "    #Write your logic here\n",
        "    for t in range(1,no_of_passengers+1):\n",
        "        ticket=''\n",
        "        ticket=airline[0:2]+':'+source[0:3]+':'+destination[:3]+':'+str(100+t)\n",
        "        total_ticket_list.append(ticket)\n",
        "    \n",
        "    if len(total_ticket_list)>5:\n",
        "        ticket_number_list=total_ticket_list[-5:]\n",
        "    else:\n",
        "        ticket_number_list=total_ticket_list\n",
        "\n",
        "    #Use the below return statement wherever applicable\n",
        "    return ticket_number_list\n",
        "\n",
        "#Provide different values for airline,source,destination,no_of_passengers and test your program\n",
        "print(generate_ticket(\"AI\",\"Bangalore\",\"London\",7))"
      ],
      "execution_count": 1,
      "outputs": [
        {
          "output_type": "stream",
          "text": [
            "['AI:Ban:Lon:103', 'AI:Ban:Lon:104', 'AI:Ban:Lon:105', 'AI:Ban:Lon:106', 'AI:Ban:Lon:107']\n"
          ],
          "name": "stdout"
        }
      ]
    },
    {
      "cell_type": "code",
      "metadata": {
        "colab": {
          "base_uri": "https://localhost:8080/"
        },
        "id": "eUopp47999xK",
        "outputId": "3cde9155-3ea6-4793-b34b-194e5cd764ae"
      },
      "source": [
        "#PF-Exer-23\n",
        "def translate(bilingual_dict,english_words_list):\n",
        "    #Write your logic here\n",
        "    swedish_words_list=[]\n",
        "    for word in english_words_list:\n",
        "        temp=bilingual_dict[word]\n",
        "        swedish_words_list.append(temp)\n",
        "\n",
        "    return swedish_words_list\n",
        "\n",
        "\n",
        "bilingual_dict= {\"merry\":\"god\", \"christmas\":\"jul\", \"and\":\"och\", \"happy\":\"gott\", \"new\":\"nytt\", \"year\":\"ar\"}\n",
        "english_words_list=[\"merry\",\"christmas\"]\n",
        "print(\"The bilingual dict is:\",bilingual_dict)\n",
        "print(\"The english words are:\",english_words_list)\n",
        "\n",
        "swedish_words_list=translate(bilingual_dict, english_words_list)\n",
        "print(\"The equivalent swedish words are:\",swedish_words_list)"
      ],
      "execution_count": 1,
      "outputs": [
        {
          "output_type": "stream",
          "text": [
            "The bilingual dict is: {'merry': 'god', 'christmas': 'jul', 'and': 'och', 'happy': 'gott', 'new': 'nytt', 'year': 'ar'}\n",
            "The english words are: ['merry', 'christmas']\n",
            "The equivalent swedish words are: ['god', 'jul']\n"
          ],
          "name": "stdout"
        }
      ]
    },
    {
      "cell_type": "code",
      "metadata": {
        "colab": {
          "base_uri": "https://localhost:8080/"
        },
        "id": "Z8hcb8zt49Hu",
        "outputId": "ed559f73-6c9c-4e7c-dc98-aa3bc52e7cd8"
      },
      "source": [
        "#PF-Assgn-29\n",
        "def calculate(distance,no_of_passengers):\n",
        "    fuel_price_per_litre=70\n",
        "    milege_per_litre=10\n",
        "    ticket_price=80\n",
        "    expenditure=(distance/milege_per_litre)*fuel_price_per_litre\n",
        "    income=no_of_passengers*ticket_price\n",
        "    if income>expenditure:\n",
        "        return income-expenditure\n",
        "    else:\n",
        "        return -1\n",
        "        \n",
        "#Provide different values for distance, no_of_passenger and test your program\n",
        "distance=20\n",
        "no_of_passengers=1\n",
        "print(calculate(distance,no_of_passengers))\n"
      ],
      "execution_count": 2,
      "outputs": [
        {
          "output_type": "stream",
          "text": [
            "-1\n"
          ],
          "name": "stdout"
        }
      ]
    },
    {
      "cell_type": "code",
      "metadata": {
        "id": "f8X9ZhMk51qO"
      },
      "source": [
        ""
      ],
      "execution_count": null,
      "outputs": []
    },
    {
      "cell_type": "code",
      "metadata": {
        "colab": {
          "base_uri": "https://localhost:8080/"
        },
        "id": "aRtF4QcE5349",
        "outputId": "663b78ac-61b4-436d-c7df-3090de191266"
      },
      "source": [
        "#PF-Assgn-31\n",
        "def check_palindrome(word):\n",
        "    temp=word[::-1]\n",
        "    if word==temp:\n",
        "        return True\n",
        "    else:\n",
        "        return False\n",
        "\n",
        "status=check_palindrome(\"MAN\")\n",
        "if(status):\n",
        "    print(\"word is palindrome\")\n",
        "else:\n",
        "    print(\"word is not palindrome\")\n"
      ],
      "execution_count": 3,
      "outputs": [
        {
          "output_type": "stream",
          "text": [
            "word is not palindrome\n"
          ],
          "name": "stdout"
        }
      ]
    },
    {
      "cell_type": "code",
      "metadata": {
        "colab": {
          "base_uri": "https://localhost:8080/"
        },
        "id": "i5JLP0PE4-CH",
        "outputId": "76517ce7-ac68-41dd-c1f6-5f4b9da65d59"
      },
      "source": [
        "#PF-Assgn-30\n",
        "\n",
        "def encode(message):\n",
        "    count=1\n",
        "    res=''\n",
        "    for i in range(0,len(message)-1):\n",
        "        current_char=message[i]\n",
        "        next_char=message[i+1]\n",
        "        if current_char==next_char:\n",
        "            count+=1 \n",
        "        else:\n",
        "            res=res+str(count)+current_char\n",
        "            count=1\n",
        "    res=res+str(count)+message[-1]\n",
        "    return res\n",
        "\n",
        "#Provide different values for message and test your program\n",
        "encoded_message=encode(\"AABBBBBC\") #ABBBBCCCCCCCCAB\n",
        "print(encoded_message)\n"
      ],
      "execution_count": 1,
      "outputs": [
        {
          "output_type": "stream",
          "text": [
            "2A5B1C\n"
          ],
          "name": "stdout"
        }
      ]
    },
    {
      "cell_type": "code",
      "metadata": {
        "colab": {
          "base_uri": "https://localhost:8080/"
        },
        "id": "mo_hfiYA6NsG",
        "outputId": "139652a5-abc5-431c-d2c5-b187f94c440e"
      },
      "source": [
        "#PF-Assgn-32\n",
        "def max_visited_speciality(patient_medical_speciality_list,medical_speciality):\n",
        "    max_visit=0\n",
        "    P=patient_medical_speciality_list.count('P')\n",
        "    E=patient_medical_speciality_list.count('E')\n",
        "    O=patient_medical_speciality_list.count('O')\n",
        "    \n",
        "    if P>E and P>O:\n",
        "        speciality= medical_speciality['P']\n",
        "    elif E>O:\n",
        "        speciality= medical_speciality['E']\n",
        "    else:\n",
        "        speciality= medical_speciality['O']\n",
        "    \n",
        "    return speciality\n",
        "\n",
        "#provide different values in the list and test your program\n",
        "patient_medical_speciality_list=[301,'O',302, 'O' ,305, 'O' ,401, 'E' ,656, 'E']\n",
        "medical_speciality={\"P\":\"Pediatrics\",\"O\":\"Orthopedics\",\"E\":\"ENT\"}\n",
        "speciality=max_visited_speciality(patient_medical_speciality_list,medical_speciality)\n",
        "print(speciality)"
      ],
      "execution_count": 4,
      "outputs": [
        {
          "output_type": "stream",
          "text": [
            "Orthopedics\n"
          ],
          "name": "stdout"
        }
      ]
    },
    {
      "cell_type": "code",
      "metadata": {
        "colab": {
          "base_uri": "https://localhost:8080/"
        },
        "id": "Wms9WfST7FkD",
        "outputId": "c6ce7e1b-2fe7-42a0-cca4-2bce6b13dec8"
      },
      "source": [
        "def find_common_characters(msg1,msg2):\n",
        "    res=''\n",
        "    for char in msg1:\n",
        "        if char in msg2 and char!=' ':\n",
        "            res=res+char\n",
        "    if res=='':\n",
        "        return -1\n",
        "    else:\n",
        "        return res\n",
        "        \n",
        "#Provide different values for msg1,msg2 and test your program\n",
        "msg1=\"I like Python\"\n",
        "msg2=\"Java is a very popular language\"\n",
        "common_characters=find_common_characters(msg1,msg2)\n",
        "print(common_characters)"
      ],
      "execution_count": 5,
      "outputs": [
        {
          "output_type": "stream",
          "text": [
            "lieyon\n"
          ],
          "name": "stdout"
        }
      ]
    }
  ]
}