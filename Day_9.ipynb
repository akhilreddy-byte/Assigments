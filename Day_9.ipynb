{
  "nbformat": 4,
  "nbformat_minor": 0,
  "metadata": {
    "colab": {
      "name": "Day 9.ipynb",
      "provenance": [],
      "authorship_tag": "ABX9TyPSMGYx8r+PRgJoYGb0YIBR",
      "include_colab_link": true
    },
    "kernelspec": {
      "name": "python3",
      "display_name": "Python 3"
    }
  },
  "cells": [
    {
      "cell_type": "markdown",
      "metadata": {
        "id": "view-in-github",
        "colab_type": "text"
      },
      "source": [
        "<a href=\"https://colab.research.google.com/github/akhilreddy-byte/Assigments/blob/main/Day_9.ipynb\" target=\"_parent\"><img src=\"https://colab.research.google.com/assets/colab-badge.svg\" alt=\"Open In Colab\"/></a>"
      ]
    },
    {
      "cell_type": "code",
      "metadata": {
        "id": "Vgi_1wE7O7d_"
      },
      "source": [
        "#list slice-l2\n",
        "#lex_auth_01269446157664256093\n",
        "from math import sqrt\n",
        "def check_prime(number):\n",
        "    count=0\n",
        "    for i in range(2,int(sqrt(number))+1):\n",
        "        if(number%i==0):\n",
        "            count+=1\n",
        "    if(count==0):\n",
        "        return True\n",
        "    else:\n",
        "        return False\n",
        "    \n",
        "    \n",
        "def rotations(num):\n",
        "    n=str(num)\n",
        "    result=[num]\n",
        "    for i in range(len(n)-1):\n",
        "        s=n[1:]+n[0]\n",
        "        n=s\n",
        "        result.append(int(s))\n",
        "    return result\n",
        "def get_circular_prime_count(limit):\n",
        "    result=[]\n",
        "    for item in range(2,limit):\n",
        "        count=0\n",
        "        lst=rotations(item)\n",
        "        for i in lst:\n",
        "            if(check_prime(i)==True):\n",
        "                count+=1\n",
        "                if(count==len(lst)):\n",
        "                    result.append(item)\n",
        "    return len(result)\n",
        "    pass #remove pass and write your logic here.It should return the count of circular prime numbers below the given limit.\n",
        "\n",
        "#Provide different values for limit and test your program\n",
        "print(get_circular_prime_count(1000))"
      ],
      "execution_count": null,
      "outputs": []
    },
    {
      "cell_type": "code",
      "metadata": {
        "id": "3cYhWRizWXTA"
      },
      "source": [
        ""
      ],
      "execution_count": null,
      "outputs": []
    },
    {
      "cell_type": "code",
      "metadata": {
        "id": "l73MnZsgTw7i"
      },
      "source": [
        "#list APIs-l3\n",
        "#lex_auth_01269445968039936095\n",
        "def SingleDigit(num):\n",
        "    sod=0\n",
        "    if(len(str(num))==1):\n",
        "        return num\n",
        "    else:\n",
        "        while(num>0):\n",
        "            sod+=num%10\n",
        "            num//=10\n",
        "        return sod\n",
        "\n",
        "def validate_credit_card_number(card_number):\n",
        "    even,odd=0,0\n",
        "    card=str(card_number)[::-1]\n",
        "    for i in range(0,len(card)):\n",
        "        if(i%2!=0):\n",
        "            odd+=SingleDigit(int(card[i])*2)\n",
        "        else:\n",
        "            even+=int(card[i])\n",
        "    s=even+odd\n",
        "    if(s%10==0):\n",
        "        return True\n",
        "    else:\n",
        "        return False\n",
        "    #start writing your code here\n",
        "\n",
        "card_number= 1456734512345698 #4539869650133101  #1456734512345698 # #5239512608615007\n",
        "result=validate_credit_card_number(card_number)\n",
        "if(result):\n",
        "    print(\"credit card number is valid\")\n",
        "else:\n",
        "    print(\"credit card number is invalid\")"
      ],
      "execution_count": null,
      "outputs": []
    },
    {
      "cell_type": "code",
      "metadata": {
        "id": "KIdoLa4zWYv_"
      },
      "source": [
        "#list-l1\n",
        "def check_perfect_number(number):\n",
        "    divisor=[]\n",
        "    for i in range(1,number//2+1):\n",
        "        if(number%i==0):\n",
        "            divisor.append(i)\n",
        "    if(sum(divisor)==number):\n",
        "        return True\n",
        "    else:\n",
        "        return False\n",
        "    #start writing your code here\n",
        "\n",
        "def check_perfectno_from_list(no_list):\n",
        "    result=[]\n",
        "    for i in no_list:\n",
        "        if(check_perfect_number(i)==True):\n",
        "            result.append(i)\n",
        "    return result\n",
        "    #start writing your code here\n",
        "\n",
        "perfectno_list=check_perfectno_from_list([18,6,4,2,1,28])\n",
        "print(perfectno_list)"
      ],
      "execution_count": null,
      "outputs": []
    }
  ]
}