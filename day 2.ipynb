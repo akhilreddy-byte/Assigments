{
  "nbformat": 4,
  "nbformat_minor": 0,
  "metadata": {
    "colab": {
      "name": "Untitled1.ipynb",
      "provenance": [],
      "authorship_tag": "ABX9TyNnCvldGQuh+LyZrk4SO+Gk",
      "include_colab_link": true
    },
    "kernelspec": {
      "name": "python3",
      "display_name": "Python 3"
    }
  },
  "cells": [
    {
      "cell_type": "markdown",
      "metadata": {
        "id": "view-in-github",
        "colab_type": "text"
      },
      "source": [
        "<a href=\"https://colab.research.google.com/github/akhilreddy-byte/Assigments/blob/main/day%202.ipynb\" target=\"_parent\"><img src=\"https://colab.research.google.com/assets/colab-badge.svg\" alt=\"Open In Colab\"/></a>"
      ]
    },
    {
      "cell_type": "code",
      "metadata": {
        "colab": {
          "base_uri": "https://localhost:8080/"
        },
        "id": "jt37_LZAwrUD",
        "outputId": "c9b1de50-1425-4602-e376-03888eea0901"
      },
      "source": [
        "def calculate_total_ticket_cost(no_of_adults, no_of_children):\n",
        "    total_ticket_cost=0\n",
        "    #Write your logic here\n",
        "    ticket_cost=37550.0\n",
        "    total_ticket_cost=(ticket_cost*no_of_adults)+((ticket_cost/3)*no_of_children)\n",
        "    total_ticket_cost=total_ticket_cost+(total_ticket_cost*7/100)\n",
        "    total_ticket_cost=total_ticket_cost-(total_ticket_cost*10/100)\n",
        "    \n",
        "    return total_ticket_cost\n",
        "\n",
        "\n",
        "#Provide different values for no_of_adults, no_of_children and test your program\n",
        "total_ticket_cost=calculate_total_ticket_cost(3,1)\n",
        "print(\"Total Ticket Cost:\",total_ticket_cost)"
      ],
      "execution_count": null,
      "outputs": [
        {
          "output_type": "stream",
          "text": [
            "Total Ticket Cost: 120535.5\n"
          ],
          "name": "stdout"
        }
      ]
    },
    {
      "cell_type": "code",
      "metadata": {
        "colab": {
          "base_uri": "https://localhost:8080/",
          "height": 130
        },
        "id": "vO7Y3zFnw65l",
        "outputId": "4f102ce4-0249-4117-c4e2-ee1ab75c671f"
      },
      "source": [
        "package main\n",
        "import (\"fmt\")\n",
        "func main(){\n",
        "    var finalFee int\n",
        "    //Write your program logic here\n",
        "    //Populate the variable: finalFee\n",
        "    var courseFee int=25000\n",
        "    var marks float32=70\n",
        "    var extraFee=1500\n",
        "    var scholarship float32=float32(courseFee)*((marks/2)/100.0)\n",
        "    finalFee=courseFee+extraFee-int(scholarship)\n",
        "\n",
        "     //Do not modify the below print statement for verification to work\n",
        "     fmt.Println(finalFee) \n",
        "}"
      ],
      "execution_count": null,
      "outputs": [
        {
          "output_type": "error",
          "ename": "SyntaxError",
          "evalue": "ignored",
          "traceback": [
            "\u001b[0;36m  File \u001b[0;32m\"<ipython-input-4-a4cb3ec2e7a7>\"\u001b[0;36m, line \u001b[0;32m1\u001b[0m\n\u001b[0;31m    package main\u001b[0m\n\u001b[0m               ^\u001b[0m\n\u001b[0;31mSyntaxError\u001b[0m\u001b[0;31m:\u001b[0m invalid syntax\n"
          ]
        }
      ]
    },
    {
      "cell_type": "code",
      "metadata": {
        "colab": {
          "base_uri": "https://localhost:8080/",
          "height": 130
        },
        "id": "r4umMYHR6rXK",
        "outputId": "cfbafd1e-80d1-472f-f910-cba229ffe379"
      },
      "source": [
        "noOfFlightsTakeOff=100\n",
        "noOfFlightsLanded=110\n",
        "seatingCapacityTakeOff=150\n",
        "seatingCapacityLanded=185\n",
        "totalCookies=0\n",
        "\n",
        "totalCookies=noOfFlightsTakeOff*seatingCapacityTakeOff+noOfFlightsLanded*(seatingCapacityLanded/2))*2O\n",
        "console.log(totalCookies)\n",
        "\n"
      ],
      "execution_count": null,
      "outputs": [
        {
          "output_type": "error",
          "ename": "SyntaxError",
          "evalue": "ignored",
          "traceback": [
            "\u001b[0;36m  File \u001b[0;32m\"<ipython-input-9-c37f19fb2cfd>\"\u001b[0;36m, line \u001b[0;32m7\u001b[0m\n\u001b[0;31m    totalCookies=noOfFlightsTakeOff*seatingCapacityTakeOff+noOfFlightsLanded*(seatingCapacityLanded/2))*2O\u001b[0m\n\u001b[0m                                                                                                      ^\u001b[0m\n\u001b[0;31mSyntaxError\u001b[0m\u001b[0;31m:\u001b[0m invalid syntax\n"
          ]
        }
      ]
    },
    {
      "cell_type": "code",
      "metadata": {
        "colab": {
          "base_uri": "https://localhost:8080/"
        },
        "id": "bcSrK8wfFDWQ",
        "outputId": "cb0cf663-3e97-4bb6-f9ed-d3cab1282843"
      },
      "source": [
        "a = -10\n",
        "b = -200\n",
        "c = 2000\n",
        "d = 4000\n",
        "if( a*b >=d):\n",
        "    if(d>c):\n",
        "        if(d%c!=0):\n",
        "            print(11)\n",
        "        else:\n",
        "            print(22)\n",
        "else:\n",
        "    if(b/a >0):\n",
        "        if(a<b or d%c!=0):\n",
        "          print(33)\n",
        "        else:\n",
        "          print(44)"
      ],
      "execution_count": null,
      "outputs": [
        {
          "output_type": "stream",
          "text": [
            "44\n"
          ],
          "name": "stdout"
        }
      ]
    },
    {
      "cell_type": "code",
      "metadata": {
        "colab": {
          "base_uri": "https://localhost:8080/"
        },
        "id": "Ka0uBH7bGpuM",
        "outputId": "b6e5ac69-bc85-4da1-ad35-67334d03f677"
      },
      "source": [
        "def display(num):\n",
        "    message=\"\"\n",
        "    #write your logic here\n",
        "    if num%3==0 and num%5==0:\n",
        "        message =\"Zoom\"\n",
        "    elif num%5==0:\n",
        "        message =\"Zap\"\n",
        "    elif num%3==0:\n",
        "        message =\"Zip\"\n",
        "    else:\n",
        "        message =\"invalid\"\n",
        "    return message\n",
        "\n",
        "#Provide different values for num and test your program\n",
        "message=display(9)\n",
        "print(message)"
      ],
      "execution_count": null,
      "outputs": [
        {
          "output_type": "stream",
          "text": [
            "Zip\n"
          ],
          "name": "stdout"
        }
      ]
    },
    {
      "cell_type": "code",
      "metadata": {
        "colab": {
          "base_uri": "https://localhost:8080/",
          "height": 130
        },
        "id": "adaJwPjELswV",
        "outputId": "77bceafb-e289-44c7-97d0-c7c376b3b7be"
      },
      "source": [
        "if(num1==num2){\n",
        "    sum=num1+num2\n",
        "}\n",
        "else:{\n",
        "    sum=2*(num1+num2)\n",
        "    \n",
        "}\n",
        "console.log(sum)"
      ],
      "execution_count": null,
      "outputs": [
        {
          "output_type": "error",
          "ename": "SyntaxError",
          "evalue": "ignored",
          "traceback": [
            "\u001b[0;36m  File \u001b[0;32m\"<ipython-input-13-ad20db93bb12>\"\u001b[0;36m, line \u001b[0;32m1\u001b[0m\n\u001b[0;31m    if(num1==num2){\u001b[0m\n\u001b[0m                  ^\u001b[0m\n\u001b[0;31mSyntaxError\u001b[0m\u001b[0;31m:\u001b[0m invalid syntax\n"
          ]
        }
      ]
    },
    {
      "cell_type": "code",
      "metadata": {
        "colab": {
          "base_uri": "https://localhost:8080/"
        },
        "id": "t889TyHoSYWA",
        "outputId": "fd3c5f2d-0d7f-4686-f620-6b869e6a26b6"
      },
      "source": [
        "def find_product(num1,num2,num3):\n",
        "    product=0\n",
        "    #write your logic here\n",
        "    if num1==7:\n",
        "        product=num2*num3\n",
        "    elif num2==7:\n",
        "        product=num3\n",
        "    elif num3==7:\n",
        "        product=-1\n",
        "    else:\n",
        "        product=num1*num2*num3\n",
        "    return product\n",
        "    \n",
        "\n",
        "#Provide different values for num1, num2, num3 and test your program\n",
        "product=find_product(7,6,2)\n",
        "print(product)"
      ],
      "execution_count": null,
      "outputs": [
        {
          "output_type": "stream",
          "text": [
            "12\n"
          ],
          "name": "stdout"
        }
      ]
    },
    {
      "cell_type": "code",
      "metadata": {
        "id": "2YEUXfauddSt",
        "colab": {
          "base_uri": "https://localhost:8080/"
        },
        "outputId": "0fb8997d-cedc-4cfa-b95e-fbf76532a9d8"
      },
      "source": [
        "def make_amount(rupees_to_make,no_of_five,no_of_one):\n",
        "    five_needed=0\n",
        "    one_needed=0\n",
        "    flag=0\n",
        "\n",
        "    #Start writing your code here\n",
        "    if rupees_to_make<=(no_of_five*5+no_of_one):\n",
        "        fives=rupees_to_make//5\n",
        "        ones=rupees_to_make%5\n",
        "        if fives<=no_of_five and ones<=no_of_one:\n",
        "            five_needed=fives\n",
        "            one_needed=ones\n",
        "            flag=1\n",
        "        elif fives>no_of_five:\n",
        "            five_needed=no_of_five\n",
        "            one_needed=rupees_to_make-(five_needed*5)\n",
        "            flag=1\n",
        "    #Populate the variables: five_needed and one_needed\n",
        "\n",
        "\n",
        "    # Use the below given print statements to display the output\n",
        "    # Also, do not modify them for verification to work\n",
        "    if flag==1:\n",
        "        print(\"No. of Five needed :\", five_needed)\n",
        "        print(\"No. of One needed  :\", one_needed)\n",
        "        \n",
        "    else:\n",
        "        print(-1)\n",
        "    \n",
        "    #print(-1)\n",
        "\n",
        "\n",
        "#Provide different values for rupees_to_make,no_of_five,no_of_one and test your program\n",
        "make_amount(28,8,5)"
      ],
      "execution_count": null,
      "outputs": [
        {
          "output_type": "stream",
          "text": [
            "No. of Five needed : 5\n",
            "No. of One needed  : 3\n"
          ],
          "name": "stdout"
        }
      ]
    },
    {
      "cell_type": "code",
      "metadata": {
        "colab": {
          "base_uri": "https://localhost:8080/"
        },
        "id": "JBG75ZVniuFX",
        "outputId": "ec9186f4-38ae-43f9-f5d6-35ec22989852"
      },
      "source": [
        "#PF-Tryout\n",
        "\n",
        "def find_new_salary(current_salary,job_level):\n",
        "    # write your logic here\n",
        "    if job_level==3:\n",
        "        new_salary=current_salary+(current_salary*(15/100))\n",
        "    elif job_level==4:\n",
        "        new_salary=current_salary+(current_salary*(7/100))\n",
        "    elif job_level==5:\n",
        "        new_salary=current_salary+(current_salary*(5/100))\n",
        "    else:\n",
        "        new_salary=current_salary\n",
        "\n",
        "    return new_salary\n",
        "\n",
        "# provide different values for current_salary and job_level and test yor program\n",
        "new_salary=find_new_salary(15000,3)\n",
        "print(int(new_salary))\n"
      ],
      "execution_count": 1,
      "outputs": [
        {
          "output_type": "stream",
          "text": [
            "17250\n"
          ],
          "name": "stdout"
        }
      ]
    },
    {
      "cell_type": "code",
      "metadata": {
        "colab": {
          "base_uri": "https://localhost:8080/"
        },
        "id": "lZfsOTyAnHVO",
        "outputId": "5260c28a-f3ef-4a19-dbcd-abfbe1bc394d"
      },
      "source": [
        "#PF-Tryout\n",
        "\n",
        "def convert_currency(amount_needed_inr,current_currency_name):\n",
        "    current_currency_amount=0\n",
        "    #write your logic here\n",
        "    if current_currency_name==\"Euro\":\n",
        "        current_currency_amount=amount_needed_inr*0.01417\n",
        "        \n",
        "    elif current_currency_name==\"British Pound\":\n",
        "        current_currency_amount=amount_needed_inr*0.0100\n",
        "        \n",
        "    elif current_currency_name==\"Australian Dollar\":\n",
        "        current_currency_amount=amount_needed_inr*0.02140\n",
        "        \n",
        "    elif current_currency_name==\"Canadian Dollar\":\n",
        "        current_currency_amount=amount_needed_inr*0.02027\n",
        "    else:\n",
        "        current_currency_amount=-1\n",
        "        \n",
        "    return current_currency_amount\n",
        "\n",
        "#Provide different values for amount_needed_inr,current_currency_name and test your program\n",
        "currency_needed=convert_currency(3500,\"Euro\")\n",
        "if(currency_needed!= -1):\n",
        "    print(currency_needed )\n",
        "else:\n",
        "    print(\"Invalid currency name\")"
      ],
      "execution_count": 2,
      "outputs": [
        {
          "output_type": "stream",
          "text": [
            "49.595\n"
          ],
          "name": "stdout"
        }
      ]
    },
    {
      "cell_type": "code",
      "metadata": {
        "colab": {
          "base_uri": "https://localhost:8080/"
        },
        "id": "Vfm-5qv9q4S3",
        "outputId": "b6f4ef06-0899-45d2-bc8e-e8f41c96150c"
      },
      "source": [
        "#PF-Assgn-19\n",
        "\n",
        "def calculate_bill_amount(food_type,quantity_ordered,distance_in_kms):\n",
        "    bill_amount=0\n",
        "    #write your logic here\n",
        "    if food_type=='V':\n",
        "        if quantity_ordered>0:\n",
        "            if distance_in_kms>6:\n",
        "                bill_amount=quantity_ordered*120+((distance_in_kms-6)*6)+9\n",
        "            elif distance_in_kms>3:\n",
        "                bill_amount=quantity_ordered*120+((distance_in_kms-3)*3)\n",
        "            elif distance_in_kms>0:\n",
        "                bill_amount=quantity_ordered*120\n",
        "            else:\n",
        "                bill_amount=-1\n",
        "        else:\n",
        "            bill_amount=-1\n",
        "    elif food_type=='N':\n",
        "        if quantity_ordered>0:\n",
        "            if distance_in_kms>6:\n",
        "                bill_amount=quantity_ordered*150+((distance_in_kms-6)*6)+9\n",
        "            elif distance_in_kms>3:\n",
        "                bill_amount=quantity_ordered*150+((distance_in_kms-3)*3)\n",
        "            elif distance_in_kms>0:\n",
        "                bill_amount=quantity_ordered*150\n",
        "            else:\n",
        "                bill_amount=-1\n",
        "        else:\n",
        "            bill_amount=-1\n",
        "    else:\n",
        "        bill_amount=-1\n",
        "                \n",
        "    return bill_amount\n",
        "\n",
        "#Provide different values for food_type,quantity_ordered,distance_in_kms and test your program\n",
        "bill_amount=calculate_bill_amount(\"N\",1,7)\n",
        "print(bill_amount)"
      ],
      "execution_count": 3,
      "outputs": [
        {
          "output_type": "stream",
          "text": [
            "165\n"
          ],
          "name": "stdout"
        }
      ]
    },
    {
      "cell_type": "code",
      "metadata": {
        "colab": {
          "base_uri": "https://localhost:8080/"
        },
        "id": "sPcDdwlXsuwt",
        "outputId": "cdba6474-6464-4a84-c9e7-e8f85b029373"
      },
      "source": [
        "#PF-Assgn-20\n",
        "\n",
        "def calculate_loan(account_number,salary,account_balance,loan_type,loan_amount_expected,customer_emi_expected):\n",
        "    eligible_loan_amount=0\n",
        "    bank_emi_expected=0\n",
        "    eligible_loan_amount=0\n",
        "    flag=0\n",
        "    #Start writing your code here\n",
        "    if account_number>999 and account_number<2000:\n",
        "        if account_balance>=99999:\n",
        "            if loan_type==\"Car\" and salary>25000:\n",
        "                if customer_emi_expected<=36 and loan_amount_expected<=500000:\n",
        "                    eligible_loan_amount=500000\n",
        "                    bank_emi_expected=36\n",
        "                    flag=1\n",
        "                else:\n",
        "                    print(\"The customer is not eligible for the loan\")\n",
        "                    \n",
        "            elif loan_type==\"House\" and salary>50000:\n",
        "                if customer_emi_expected<=60 and loan_amount_expected<=6000000:\n",
        "                    eligible_loan_amount=6000000\n",
        "                    bank_emi_expected=60\n",
        "                    flag=1\n",
        "                else:\n",
        "                    print(\"The customer is not eligible for the loan\")\n",
        "                    \n",
        "            elif loan_type==\"Business\" and salary>75000:\n",
        "                if customer_emi_expected<=84 and loan_amount_expected<=7500000:\n",
        "                    eligible_loan_amount=7500000\n",
        "                    bank_emi_expected=84\n",
        "                    flag=1\n",
        "                else:\n",
        "                    print(\"The customer is not eligible for the loan\")\n",
        "            else:\n",
        "                print(\"Invalid loan type or salary\")\n",
        "        else:\n",
        "            print(\"Insufficient account balance\")\n",
        "    else:\n",
        "        print(\"Invalid account number\")\n",
        "\n",
        "    #Use the below given print statements to display the output, in case of success\n",
        "    if flag==1:\n",
        "        print(\"Account number:\", account_number)\n",
        "        print(\"The customer can avail the amount of Rs.\", eligible_loan_amount)\n",
        "        print(\"Eligible EMIs :\", bank_emi_expected)\n",
        "        print(\"Requested loan amount:\", loan_amount_expected)\n",
        "        print(\"Requested EMI's:\",customer_emi_expected)\n",
        "\n",
        "#Test your code for different values and observe the results\n",
        "calculate_loan(1001,40000,250000,\"Car\",300000,30)"
      ],
      "execution_count": 4,
      "outputs": [
        {
          "output_type": "stream",
          "text": [
            "Account number: 1001\n",
            "The customer can avail the amount of Rs. 500000\n",
            "Eligible EMIs : 36\n",
            "Requested loan amount: 300000\n",
            "Requested EMI's: 30\n"
          ],
          "name": "stdout"
        }
      ]
    },
    {
      "cell_type": "code",
      "metadata": {
        "colab": {
          "base_uri": "https://localhost:8080/"
        },
        "id": "jutbzqx5tG7E",
        "outputId": "f8ed6bcb-c01d-4725-e6c1-134bb9f4f6d3"
      },
      "source": [
        "#PF-Tryout\n",
        "\n",
        "def generate_next_date(day,month,year):\n",
        "    #Start writing your code here\n",
        "    next_day=0 \n",
        "    next_month=0 \n",
        "    next_year=0\n",
        "    if month==1 or month==3 or month==5 or month==7 or month==8 or month==10:\n",
        "        if day>0 and day <31:\n",
        "            next_day=day+1\n",
        "            next_month=month\n",
        "            next_year=year\n",
        "        else:\n",
        "            next_day=1 \n",
        "            next_month=month+1 \n",
        "            next_year=year\n",
        "    elif month==2:\n",
        "        if day>0 and day <27:\n",
        "            next_day=day+1\n",
        "            next_month=month\n",
        "            next_year=year\n",
        "        else:\n",
        "            next_day=1 \n",
        "            next_month=month+1 \n",
        "            next_year=year\n",
        "    elif month==4 or month==6 or month==9 or month==11:\n",
        "        if day>0 and day <30:\n",
        "            next_day=day+1\n",
        "            next_month=month\n",
        "            next_year=year\n",
        "        else:\n",
        "            next_day=1 \n",
        "            next_month=month+1 \n",
        "            next_year=year\n",
        "    else:\n",
        "        if day>0 and day <31:\n",
        "            next_day=day+1\n",
        "            next_month=month\n",
        "            next_year=year\n",
        "        else:\n",
        "            next_day=1 \n",
        "            next_month=1 \n",
        "            next_year=year+1\n",
        "        \n",
        "\n",
        "    print(next_day,\"-\",next_month,\"-\",next_year)\n",
        "\n",
        "\n",
        "generate_next_date(30,12,2015)"
      ],
      "execution_count": 5,
      "outputs": [
        {
          "output_type": "stream",
          "text": [
            "31 - 12 - 2015\n"
          ],
          "name": "stdout"
        }
      ]
    }
  ]
}